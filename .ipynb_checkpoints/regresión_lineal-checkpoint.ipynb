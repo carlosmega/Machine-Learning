{
 "cells": [
  {
   "cell_type": "code",
   "execution_count": 37,
   "metadata": {},
   "outputs": [],
   "source": [
    "class RegresionLineal:  \n",
    "    \n",
    "    def __init__(self, path=None, y=None, **kwargs):\n",
    "        self.path = path\n",
    "        self.y = y\n",
    "        self.kwargs = kwargs\n",
    "        print('Se creo la regresión lineal')\n",
    "        \n",
    "    def predictors_vars(self):\n",
    "        # Esta función almacena y coloca en una lista todas las variables predictoras\n",
    "        l = []\n",
    "        for i in self.kwargs:\n",
    "            l.append(i)\n",
    "        return l\n",
    "        \n",
    "    def join_predictors_vars(self):\n",
    "        # Esta función junta las variables predictoras para agregarlas en el modelo_multiple\n",
    "        var_x = self.predictors_vars()\n",
    "        modelo_variables = '+'.join(var_x)\n",
    "        return modelo_variables\n",
    "    \n",
    "    def model(self):\n",
    "        \n",
    "        import pandas as pd\n",
    "        import statsmodels.formula.api as smf\n",
    "        \n",
    "        data = pd.read_csv(self.path)     \n",
    "        variables_x = self.y + '~' + self.join_predictors_vars()\n",
    "        lm = smf.ols(formula = variables_x, data = data).fit()\n",
    "        return lm             \n",
    "        \n",
    "    def parameters_pvalues_rsquared(self):\n",
    "        model = self.model()\n",
    "        print('Parametros del modelo:\\n{}\\n-----------'.format(model.params))\n",
    "        print('P_valores del modelo:\\n{}\\n-----------'.format(model.pvalues))\n",
    "        print('R_cuadrada del modelo:\\n{}\\n-----------'.format(model.rsquared))\n",
    "        print('R_cuadrada ajustada del modelo:\\n{}\\n-----------'.format(model.rsquared_adj))\n",
    "        #print('Según el modelo: Sales = {} + {}*\"TV\" + {}*\"Newspaper\" '.format(model.params[0], model.params[1], model.params[2]))\n",
    "       \n",
    "    def prediccion_y(self):\n",
    "        \n",
    "        import pandas as pd\n",
    "        \n",
    "        \"\"\"\n",
    "         Llamamos a la función 'variables_x()' para obtener los nombre de\n",
    "         las variables x y pasarlas por la función 'predict'.         \n",
    "        \"\"\"\n",
    "        model = self.model()\n",
    "        data = pd.read_csv(self.path)\n",
    "        y_pred = model.predict(data[self.predictors_vars()])\n",
    "        return y_pred\n",
    "    \n",
    "    def error(self):\n",
    "        \n",
    "        import pandas as pd\n",
    "        import numpy as np\n",
    "        \n",
    "        count_var   = len(self.predictors_vars())\n",
    "        data        = pd.read_csv(self.path) \n",
    "        SSD         = sum((data[self.y]-self.prediccion_y())**2)\n",
    "        RSE         = np.sqrt(SSD/(len(data)-count_var-1))\n",
    "        e           = RSE / np.mean(data[self.y])\n",
    "        # La salida de esta función, detalla el porcentaje de error que no puede explicar el modelo, entre menor sea es mejor para el modelo.\n",
    "        return e\n",
    "    \n",
    "    def multicolinealidad(self, com=None, **kwargs):\n",
    "        \n",
    "        l = []\n",
    "        for i in kwargs:\n",
    "            l.append(i)\n",
    "          \n",
    "        j = '+'.join(l)\n",
    "        \n",
    "        var = com + '~' + j\n",
    "        \n",
    "        import pandas as pd\n",
    "        import statsmodels.formula.api as smf\n",
    "        \n",
    "        data = pd.read_csv(self.path)\n",
    "        f = smf.ols(formula=var, data = data).fit()\n",
    "        VIF = 1/(1-f.rsquared)\n",
    "        \n",
    "        if VIF == 1:\n",
    "            print('Las variables no están correlacionadas')\n",
    "        elif VIF < 5:\n",
    "            print('Las variables tienen una correlación moderada y se pueden quedar en el modelo')\n",
    "        elif VIF > 5:\n",
    "            print('Las variables están altamente correlacionadas y deben desaparecer del modelo')\n",
    "        return 'El factor inflación de la varianza es de: {}'.format(VIF)\n",
    "    \n",
    "    # Regresión lineal con la librería de sklearn\n",
    "    \n",
    "    def seleccion_variables(self):\n",
    "        \n",
    "        import pandas as pd\n",
    "        \n",
    "        data = pd.read_csv(self.path)  \n",
    "        \n",
    "        X = data[self.predictors_vars()]\n",
    "        Y = data[self.y]\n",
    "        \n",
    "        from sklearn.feature_selection import RFE\n",
    "        from sklearn.svm import SVR\n",
    "        \n",
    "        import numpy as np\n",
    "        \n",
    "        estimator = SVR(kernel=\"linear\")\n",
    "        # El numero dos es un indice que elige la cantidad de variables que debería tomar el modelo\n",
    "        selector = RFE(estimator, 2, step=1)\n",
    "        selector = selector.fit(X,Y)\n",
    "        \n",
    "        return self.predictors_vars(), selector.support_, selector.ranking_ \n",
    "        \n",
    "        \n",
    "        "
   ]
  },
  {
   "cell_type": "markdown",
   "metadata": {},
   "source": [
    "## Ejemplo de regresión lineal\n",
    "\n",
    "## 1. Alimentár función\n",
    "Se alimenta la función con tres tipos de parametros\n",
    "* path: se agrega la ruta donde se encuentra el archivo que se quiere análizar, es recomendable usar un documento con ext .csv, la función que se usa para analizar el archuivo es read_csv de la librería de pandas.\n",
    "* y: Este argumento recibe el nombre de la variable \"y\" o la variable respuesta.\n",
    "* **kwargs: este argumento recibe las variables predictoras o las variables \"x\". "
   ]
  },
  {
   "cell_type": "code",
   "execution_count": 38,
   "metadata": {},
   "outputs": [
    {
     "name": "stdout",
     "output_type": "stream",
     "text": [
      "Se creo la regresión lineal\n"
     ]
    },
    {
     "data": {
      "text/plain": [
       "<__main__.RegresionLineal at 0x1f11dc4c668>"
      ]
     },
     "execution_count": 38,
     "metadata": {},
     "output_type": "execute_result"
    }
   ],
   "source": [
    "path = 'https://raw.githubusercontent.com/joanby/python-ml-course/master/datasets/ads/Advertising.csv'\n",
    "rl = RegresionLineal(path, y = 'Sales', TV='TV', Radio='Radio')\n",
    "rl"
   ]
  },
  {
   "cell_type": "code",
   "execution_count": 39,
   "metadata": {},
   "outputs": [
    {
     "data": {
      "text/plain": [
       "(['TV', 'Radio'], array([ True,  True]), array([1, 1]))"
      ]
     },
     "execution_count": 39,
     "metadata": {},
     "output_type": "execute_result"
    }
   ],
   "source": [
    "rl.seleccion_variables()"
   ]
  },
  {
   "cell_type": "markdown",
   "metadata": {},
   "source": [
    "## 2. Funciónes de soporte\n",
    "Las funciones de soporte son necesarías para mostrar los resultados finales de la regresión lineal\n",
    "\n",
    "#### predictors_vars\n",
    "Se encarga de poner en una lista las variables predictoras"
   ]
  },
  {
   "cell_type": "code",
   "execution_count": 40,
   "metadata": {},
   "outputs": [
    {
     "data": {
      "text/plain": [
       "['TV', 'Radio']"
      ]
     },
     "execution_count": 40,
     "metadata": {},
     "output_type": "execute_result"
    }
   ],
   "source": [
    "rl.predictors_vars()"
   ]
  },
  {
   "cell_type": "markdown",
   "metadata": {},
   "source": [
    "#### join_predictors_vars\n",
    "Esta función junta las variables predictoras para agregarlas en el modelo_multiple"
   ]
  },
  {
   "cell_type": "code",
   "execution_count": 41,
   "metadata": {},
   "outputs": [
    {
     "data": {
      "text/plain": [
       "'TV+Radio'"
      ]
     },
     "execution_count": 41,
     "metadata": {},
     "output_type": "execute_result"
    }
   ],
   "source": [
    "rl.join_predictors_vars()"
   ]
  },
  {
   "cell_type": "markdown",
   "metadata": {},
   "source": [
    "#### modelo\n",
    "Crea la función de modelo, agregando el modelo summary() se puede ver el detalle de la estadistica del dataset"
   ]
  },
  {
   "cell_type": "code",
   "execution_count": 43,
   "metadata": {},
   "outputs": [
    {
     "data": {
      "text/html": [
       "<table class=\"simpletable\">\n",
       "<caption>OLS Regression Results</caption>\n",
       "<tr>\n",
       "  <th>Dep. Variable:</th>          <td>Sales</td>      <th>  R-squared:         </th> <td>   0.897</td>\n",
       "</tr>\n",
       "<tr>\n",
       "  <th>Model:</th>                   <td>OLS</td>       <th>  Adj. R-squared:    </th> <td>   0.896</td>\n",
       "</tr>\n",
       "<tr>\n",
       "  <th>Method:</th>             <td>Least Squares</td>  <th>  F-statistic:       </th> <td>   859.6</td>\n",
       "</tr>\n",
       "<tr>\n",
       "  <th>Date:</th>             <td>Sun, 16 Dec 2018</td> <th>  Prob (F-statistic):</th> <td>4.83e-98</td>\n",
       "</tr>\n",
       "<tr>\n",
       "  <th>Time:</th>                 <td>10:58:28</td>     <th>  Log-Likelihood:    </th> <td> -386.20</td>\n",
       "</tr>\n",
       "<tr>\n",
       "  <th>No. Observations:</th>      <td>   200</td>      <th>  AIC:               </th> <td>   778.4</td>\n",
       "</tr>\n",
       "<tr>\n",
       "  <th>Df Residuals:</th>          <td>   197</td>      <th>  BIC:               </th> <td>   788.3</td>\n",
       "</tr>\n",
       "<tr>\n",
       "  <th>Df Model:</th>              <td>     2</td>      <th>                     </th>     <td> </td>   \n",
       "</tr>\n",
       "<tr>\n",
       "  <th>Covariance Type:</th>      <td>nonrobust</td>    <th>                     </th>     <td> </td>   \n",
       "</tr>\n",
       "</table>\n",
       "<table class=\"simpletable\">\n",
       "<tr>\n",
       "      <td></td>         <th>coef</th>     <th>std err</th>      <th>t</th>      <th>P>|t|</th>  <th>[0.025</th>    <th>0.975]</th>  \n",
       "</tr>\n",
       "<tr>\n",
       "  <th>Intercept</th> <td>    2.9211</td> <td>    0.294</td> <td>    9.919</td> <td> 0.000</td> <td>    2.340</td> <td>    3.502</td>\n",
       "</tr>\n",
       "<tr>\n",
       "  <th>TV</th>        <td>    0.0458</td> <td>    0.001</td> <td>   32.909</td> <td> 0.000</td> <td>    0.043</td> <td>    0.048</td>\n",
       "</tr>\n",
       "<tr>\n",
       "  <th>Radio</th>     <td>    0.1880</td> <td>    0.008</td> <td>   23.382</td> <td> 0.000</td> <td>    0.172</td> <td>    0.204</td>\n",
       "</tr>\n",
       "</table>\n",
       "<table class=\"simpletable\">\n",
       "<tr>\n",
       "  <th>Omnibus:</th>       <td>60.022</td> <th>  Durbin-Watson:     </th> <td>   2.081</td>\n",
       "</tr>\n",
       "<tr>\n",
       "  <th>Prob(Omnibus):</th> <td> 0.000</td> <th>  Jarque-Bera (JB):  </th> <td> 148.679</td>\n",
       "</tr>\n",
       "<tr>\n",
       "  <th>Skew:</th>          <td>-1.323</td> <th>  Prob(JB):          </th> <td>5.19e-33</td>\n",
       "</tr>\n",
       "<tr>\n",
       "  <th>Kurtosis:</th>      <td> 6.292</td> <th>  Cond. No.          </th> <td>    425.</td>\n",
       "</tr>\n",
       "</table><br/><br/>Warnings:<br/>[1] Standard Errors assume that the covariance matrix of the errors is correctly specified."
      ],
      "text/plain": [
       "<class 'statsmodels.iolib.summary.Summary'>\n",
       "\"\"\"\n",
       "                            OLS Regression Results                            \n",
       "==============================================================================\n",
       "Dep. Variable:                  Sales   R-squared:                       0.897\n",
       "Model:                            OLS   Adj. R-squared:                  0.896\n",
       "Method:                 Least Squares   F-statistic:                     859.6\n",
       "Date:                Sun, 16 Dec 2018   Prob (F-statistic):           4.83e-98\n",
       "Time:                        10:58:28   Log-Likelihood:                -386.20\n",
       "No. Observations:                 200   AIC:                             778.4\n",
       "Df Residuals:                     197   BIC:                             788.3\n",
       "Df Model:                           2                                         \n",
       "Covariance Type:            nonrobust                                         \n",
       "==============================================================================\n",
       "                 coef    std err          t      P>|t|      [0.025      0.975]\n",
       "------------------------------------------------------------------------------\n",
       "Intercept      2.9211      0.294      9.919      0.000       2.340       3.502\n",
       "TV             0.0458      0.001     32.909      0.000       0.043       0.048\n",
       "Radio          0.1880      0.008     23.382      0.000       0.172       0.204\n",
       "==============================================================================\n",
       "Omnibus:                       60.022   Durbin-Watson:                   2.081\n",
       "Prob(Omnibus):                  0.000   Jarque-Bera (JB):              148.679\n",
       "Skew:                          -1.323   Prob(JB):                     5.19e-33\n",
       "Kurtosis:                       6.292   Cond. No.                         425.\n",
       "==============================================================================\n",
       "\n",
       "Warnings:\n",
       "[1] Standard Errors assume that the covariance matrix of the errors is correctly specified.\n",
       "\"\"\""
      ]
     },
     "execution_count": 43,
     "metadata": {},
     "output_type": "execute_result"
    }
   ],
   "source": [
    "rl.model().summary()"
   ]
  },
  {
   "cell_type": "markdown",
   "metadata": {},
   "source": [
    "#### parameters_pvalues_rsquared\n",
    "Muestra un detalle de los valores mas importantes del modelo"
   ]
  },
  {
   "cell_type": "code",
   "execution_count": 44,
   "metadata": {},
   "outputs": [
    {
     "name": "stdout",
     "output_type": "stream",
     "text": [
      "Parametros del modelo:\n",
      "Intercept    2.921100\n",
      "TV           0.045755\n",
      "Radio        0.187994\n",
      "dtype: float64\n",
      "-----------\n",
      "P_valores del modelo:\n",
      "Intercept    4.565557e-19\n",
      "TV           5.436980e-82\n",
      "Radio        9.776972e-59\n",
      "dtype: float64\n",
      "-----------\n",
      "R_cuadrada del modelo:\n",
      "0.8971942610828956\n",
      "-----------\n",
      "R_cuadrada ajustada del modelo:\n",
      "0.8961505479974428\n",
      "-----------\n"
     ]
    }
   ],
   "source": [
    "rl.parameters_pvalues_rsquared()"
   ]
  },
  {
   "cell_type": "markdown",
   "metadata": {},
   "source": [
    "#### prediccion_y\n",
    "Esta función predice tomando las variables predictors la variable respuesta"
   ]
  },
  {
   "cell_type": "code",
   "execution_count": 45,
   "metadata": {},
   "outputs": [
    {
     "data": {
      "text/plain": [
       "0    20.555465\n",
       "1    12.345362\n",
       "2    12.337018\n",
       "3    17.617116\n",
       "4    13.223908\n",
       "dtype: float64"
      ]
     },
     "execution_count": 45,
     "metadata": {},
     "output_type": "execute_result"
    }
   ],
   "source": [
    "rl.prediccion_y().head()"
   ]
  },
  {
   "cell_type": "markdown",
   "metadata": {},
   "source": [
    "#### error\n",
    "La salida de esta función, detalla el porcentaje de error que no puede explicar el modelo, entre menor sea es mejor para el modelo."
   ]
  },
  {
   "cell_type": "code",
   "execution_count": 46,
   "metadata": {},
   "outputs": [
    {
     "data": {
      "text/plain": [
       "0.1199045043685506"
      ]
     },
     "execution_count": 46,
     "metadata": {},
     "output_type": "execute_result"
    }
   ],
   "source": [
    "rl.error()"
   ]
  },
  {
   "cell_type": "markdown",
   "metadata": {},
   "source": [
    "#### multicolinealidad\n",
    "\n",
    "Factor Inflación de la Varianza\n",
    "\n",
    "    VIF = 1 : Las variables no están correlacionadas\n",
    "    VIF < 5 : Las variables tienen una correlación moderada y se pueden quedar en el modelo\n",
    "    VIF > 5 : Las variables están altamente correlacionadas y deben desaparecer del modelo.\n"
   ]
  },
  {
   "cell_type": "code",
   "execution_count": 47,
   "metadata": {},
   "outputs": [
    {
     "name": "stdout",
     "output_type": "stream",
     "text": [
      "Las variables tienen una correlación moderada y se pueden quedar en el modelo\n"
     ]
    },
    {
     "data": {
      "text/plain": [
       "'El factor inflación de la varianza es de: 1.1451873787239286'"
      ]
     },
     "execution_count": 47,
     "metadata": {},
     "output_type": "execute_result"
    }
   ],
   "source": [
    "rl.multicolinealidad(com='Newspaper', TV='TV', Radio='Radio')"
   ]
  },
  {
   "cell_type": "code",
   "execution_count": null,
   "metadata": {},
   "outputs": [],
   "source": []
  }
 ],
 "metadata": {
  "kernelspec": {
   "display_name": "Python 3",
   "language": "python",
   "name": "python3"
  },
  "language_info": {
   "codemirror_mode": {
    "name": "ipython",
    "version": 3
   },
   "file_extension": ".py",
   "mimetype": "text/x-python",
   "name": "python",
   "nbconvert_exporter": "python",
   "pygments_lexer": "ipython3",
   "version": "3.6.5"
  }
 },
 "nbformat": 4,
 "nbformat_minor": 2
}
