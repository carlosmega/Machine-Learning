{
 "cells": [
  {
   "cell_type": "markdown",
   "metadata": {},
   "source": [
    "# Conocer el Dataset\n",
    "\n",
    "Es importante antes de hacer cualquier analisis predictivo conocer la información de nuetsro dataset.\n",
    "\n",
    "La función intro_dataset nos permite conocer estadistica basica de la información o el dataset que vamos a usar para hacer nuestros analisis predictivos, lo unico que tienes que hacer es pasar la ruta o el path de la ubicación de tu archuivo, con la ayuda de pandas extraemos esta información y la mostramos en pantalla."
   ]
  },
  {
   "cell_type": "markdown",
   "metadata": {},
   "source": [
    "## Introducción del contenido del dataset\n",
    "### función: intro_dataset\n",
    "\n",
    "Esta función es la encargada de proporcionarte información basica del dataset con el objetivo de conocer mejor la información antes de hacer los analasis predictivos"
   ]
  },
  {
   "cell_type": "code",
   "execution_count": 39,
   "metadata": {},
   "outputs": [],
   "source": [
    "def intro_dataset(path):\n",
    "    import pandas as pd\n",
    "    \n",
    "    data = pd.read_csv(path)\n",
    "    porcentaje_nulos = (pd.isnull(data).values.ravel().sum()) / (pd.isnull(data).values.ravel().sum() + pd.notnull(data).values.ravel().sum())\n",
    "    \n",
    "    print('Este dataset contiene {} filas y {} columnas'.format(data.shape[0], data.shape[1]))\n",
    "    print('----------------')\n",
    "    print('Columnas del dataset {}'.format(data.columns.values.tolist()))\n",
    "    print('----------------')\n",
    "    print('Datos nulos {}'.format(pd.isnull(data).values.ravel().sum()))\n",
    "    \n",
    "    print('% de datos nulos: {}'.format(porcentaje_nulos))\n",
    "    # borrar los valores que faltan\n",
    "    print('----------------')\n",
    "    print('Estadistica del dataser: \\n {}'.format(data.describe()))"
   ]
  },
  {
   "cell_type": "code",
   "execution_count": 37,
   "metadata": {},
   "outputs": [
    {
     "name": "stdout",
     "output_type": "stream",
     "text": [
      "Este dataset contiene 7 filas y 4 columnas\n",
      "----------------\n",
      "Columnas del dataset ['Nombre', 'Edad', 'Pais', 'Calor']\n",
      "----------------\n",
      "Datos nulos 8\n",
      "% de datos nulos: 0.2857142857142857\n",
      "----------------\n",
      "Estadistica del dataser: \n",
      "             Edad      Calor\n",
      "count   4.000000   4.000000\n",
      "mean   31.250000  45.000000\n",
      "std    10.531698   8.981462\n",
      "min    23.000000  34.000000\n",
      "25%    23.000000  42.250000\n",
      "50%    28.500000  45.000000\n",
      "75%    36.750000  47.750000\n",
      "max    45.000000  56.000000\n"
     ]
    }
   ],
   "source": [
    "intro = intro_dataset('../Machine-Learning/usuarios.csv')\n",
    "intro"
   ]
  },
  {
   "cell_type": "markdown",
   "metadata": {},
   "source": [
    "## Limpieza de datos\n",
    "### función: limpieza_datos\n",
    "\n",
    "Ya que conocemos nuestros datos es importante limpiarlos, está función te ayudará a solo agregar la ruta del archuivo y limpiar todos los datos.\n",
    "\n",
    "ten cuidado en la manera en como limpies los datos, en mi caso estoy usando dos criterios, para los valores tipo obj uso el promedio de la columna y para los string o cadenas uso la palabra \"desconocido\". Dependiendo el tipo de analisis y los requerimientos de negocio será la manera en que definas estos criterios para llenar esos campos vacios. En algunos casos es mejor colocar '0' o el numero de consecuente de la columna anterior, etc. \n",
    "\n",
    "Pandas tiene algunas funciones que te podrán ayudar a mejorar esta parte. para estos casos solo sustituye las siguientes variables y coloca tu logica de negocio para llenar los campos NaN."
   ]
  },
  {
   "cell_type": "code",
   "execution_count": 40,
   "metadata": {},
   "outputs": [],
   "source": [
    "def limpieza_datos(path):\n",
    "    import pandas as pd\n",
    "\n",
    "    data = pd.read_csv(path)\n",
    "    columnas = data.columns.values.tolist()\n",
    "\n",
    "    for x, i in enumerate(columnas):\n",
    "        new_data = data\n",
    "\n",
    "        if data[columnas[x]].dtypes == 'O':\n",
    "            new_data_type0 = data[columnas[x]].fillna('Desconocido') \n",
    "            new_data[columnas[x]] = new_data_type0        \n",
    "\n",
    "        else:\n",
    "            new_data_type64 = data[columnas[x]].fillna(data[columnas[x]].mean())\n",
    "            new_data[columnas[x]] = new_data_type64 \n",
    "            \n",
    "    return new_data"
   ]
  },
  {
   "cell_type": "code",
   "execution_count": 41,
   "metadata": {},
   "outputs": [
    {
     "data": {
      "text/html": [
       "<div>\n",
       "<style scoped>\n",
       "    .dataframe tbody tr th:only-of-type {\n",
       "        vertical-align: middle;\n",
       "    }\n",
       "\n",
       "    .dataframe tbody tr th {\n",
       "        vertical-align: top;\n",
       "    }\n",
       "\n",
       "    .dataframe thead th {\n",
       "        text-align: right;\n",
       "    }\n",
       "</style>\n",
       "<table border=\"1\" class=\"dataframe\">\n",
       "  <thead>\n",
       "    <tr style=\"text-align: right;\">\n",
       "      <th></th>\n",
       "      <th>Nombre</th>\n",
       "      <th>Edad</th>\n",
       "      <th>Pais</th>\n",
       "      <th>Calor</th>\n",
       "    </tr>\n",
       "  </thead>\n",
       "  <tbody>\n",
       "    <tr>\n",
       "      <th>0</th>\n",
       "      <td>Carlos</td>\n",
       "      <td>23.00</td>\n",
       "      <td>Mexico</td>\n",
       "      <td>45.0</td>\n",
       "    </tr>\n",
       "    <tr>\n",
       "      <th>1</th>\n",
       "      <td>Arturo</td>\n",
       "      <td>45.00</td>\n",
       "      <td>Colombia</td>\n",
       "      <td>56.0</td>\n",
       "    </tr>\n",
       "    <tr>\n",
       "      <th>2</th>\n",
       "      <td>Alejandro</td>\n",
       "      <td>23.00</td>\n",
       "      <td>Guatemala</td>\n",
       "      <td>34.0</td>\n",
       "    </tr>\n",
       "    <tr>\n",
       "      <th>3</th>\n",
       "      <td>Rogelio</td>\n",
       "      <td>31.25</td>\n",
       "      <td>España</td>\n",
       "      <td>45.0</td>\n",
       "    </tr>\n",
       "    <tr>\n",
       "      <th>4</th>\n",
       "      <td>Gilberto</td>\n",
       "      <td>31.25</td>\n",
       "      <td>Desconocido</td>\n",
       "      <td>45.0</td>\n",
       "    </tr>\n",
       "    <tr>\n",
       "      <th>5</th>\n",
       "      <td>Laura</td>\n",
       "      <td>34.00</td>\n",
       "      <td>España</td>\n",
       "      <td>45.0</td>\n",
       "    </tr>\n",
       "    <tr>\n",
       "      <th>6</th>\n",
       "      <td>Lorena</td>\n",
       "      <td>31.25</td>\n",
       "      <td>Desconocido</td>\n",
       "      <td>45.0</td>\n",
       "    </tr>\n",
       "  </tbody>\n",
       "</table>\n",
       "</div>"
      ],
      "text/plain": [
       "      Nombre   Edad         Pais  Calor\n",
       "0     Carlos  23.00       Mexico   45.0\n",
       "1     Arturo  45.00     Colombia   56.0\n",
       "2  Alejandro  23.00    Guatemala   34.0\n",
       "3    Rogelio  31.25       España   45.0\n",
       "4   Gilberto  31.25  Desconocido   45.0\n",
       "5      Laura  34.00       España   45.0\n",
       "6     Lorena  31.25  Desconocido   45.0"
      ]
     },
     "execution_count": 41,
     "metadata": {},
     "output_type": "execute_result"
    }
   ],
   "source": [
    "limpieza_datos('../Machine-Learning/usuarios.csv')"
   ]
  },
  {
   "cell_type": "code",
   "execution_count": 42,
   "metadata": {},
   "outputs": [
    {
     "data": {
      "text/html": [
       "<div>\n",
       "<style scoped>\n",
       "    .dataframe tbody tr th:only-of-type {\n",
       "        vertical-align: middle;\n",
       "    }\n",
       "\n",
       "    .dataframe tbody tr th {\n",
       "        vertical-align: top;\n",
       "    }\n",
       "\n",
       "    .dataframe thead th {\n",
       "        text-align: right;\n",
       "    }\n",
       "</style>\n",
       "<table border=\"1\" class=\"dataframe\">\n",
       "  <thead>\n",
       "    <tr style=\"text-align: right;\">\n",
       "      <th></th>\n",
       "      <th>Nombre</th>\n",
       "      <th>Edad</th>\n",
       "      <th>Pais</th>\n",
       "      <th>Calor</th>\n",
       "    </tr>\n",
       "  </thead>\n",
       "  <tbody>\n",
       "    <tr>\n",
       "      <th>0</th>\n",
       "      <td>Carlos</td>\n",
       "      <td>23.0</td>\n",
       "      <td>Mexico</td>\n",
       "      <td>45.0</td>\n",
       "    </tr>\n",
       "    <tr>\n",
       "      <th>1</th>\n",
       "      <td>Arturo</td>\n",
       "      <td>45.0</td>\n",
       "      <td>Colombia</td>\n",
       "      <td>56.0</td>\n",
       "    </tr>\n",
       "    <tr>\n",
       "      <th>2</th>\n",
       "      <td>Alejandro</td>\n",
       "      <td>23.0</td>\n",
       "      <td>Guatemala</td>\n",
       "      <td>34.0</td>\n",
       "    </tr>\n",
       "    <tr>\n",
       "      <th>3</th>\n",
       "      <td>Rogelio</td>\n",
       "      <td>NaN</td>\n",
       "      <td>España</td>\n",
       "      <td>45.0</td>\n",
       "    </tr>\n",
       "    <tr>\n",
       "      <th>4</th>\n",
       "      <td>Gilberto</td>\n",
       "      <td>NaN</td>\n",
       "      <td>NaN</td>\n",
       "      <td>NaN</td>\n",
       "    </tr>\n",
       "    <tr>\n",
       "      <th>5</th>\n",
       "      <td>Laura</td>\n",
       "      <td>34.0</td>\n",
       "      <td>España</td>\n",
       "      <td>NaN</td>\n",
       "    </tr>\n",
       "    <tr>\n",
       "      <th>6</th>\n",
       "      <td>Lorena</td>\n",
       "      <td>NaN</td>\n",
       "      <td>NaN</td>\n",
       "      <td>NaN</td>\n",
       "    </tr>\n",
       "  </tbody>\n",
       "</table>\n",
       "</div>"
      ],
      "text/plain": [
       "      Nombre  Edad       Pais  Calor\n",
       "0     Carlos  23.0     Mexico   45.0\n",
       "1     Arturo  45.0   Colombia   56.0\n",
       "2  Alejandro  23.0  Guatemala   34.0\n",
       "3    Rogelio   NaN     España   45.0\n",
       "4   Gilberto   NaN        NaN    NaN\n",
       "5      Laura  34.0     España    NaN\n",
       "6     Lorena   NaN        NaN    NaN"
      ]
     },
     "execution_count": 42,
     "metadata": {},
     "output_type": "execute_result"
    }
   ],
   "source": [
    "pd.read_csv('../Machine-Learning/usuarios.csv')"
   ]
  },
  {
   "cell_type": "code",
   "execution_count": null,
   "metadata": {},
   "outputs": [],
   "source": []
  }
 ],
 "metadata": {
  "kernelspec": {
   "display_name": "Python 3",
   "language": "python",
   "name": "python3"
  },
  "language_info": {
   "codemirror_mode": {
    "name": "ipython",
    "version": 3
   },
   "file_extension": ".py",
   "mimetype": "text/x-python",
   "name": "python",
   "nbconvert_exporter": "python",
   "pygments_lexer": "ipython3",
   "version": "3.6.5"
  }
 },
 "nbformat": 4,
 "nbformat_minor": 2
}
